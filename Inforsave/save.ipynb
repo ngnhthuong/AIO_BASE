{
 "cells": [
  {
   "cell_type": "code",
   "execution_count": null,
   "metadata": {
    "vscode": {
     "languageId": "plaintext"
    }
   },
   "outputs": [],
   "source": [
    "const http = require('http');\n",
    "const WebSocket = require('ws');\n",
    "\n",
    "// Tạo máy chủ HTTP\n",
    "const server = http.createServer((req, res) => {\n",
    "  res.writeHead(200, { 'Content-Type': 'text/plain' });\n",
    "  res.end('WebSocket server đang chạy');\n",
    "});\n",
    "\n",
    "// Tạo máy chủ WebSocket\n",
    "const wss = new WebSocket.Server({ server });\n",
    "\n",
    "// Xử lý kết nối WebSocket\n",
    "wss.on('connection', (ws, req) => {\n",
    "  // Lấy địa chỉ IP của client\n",
    "  const ip = req.socket.remoteAddress;\n",
    "  \n",
    "  console.log(`Client kết nối từ IP: ${ip}`);\n",
    "\n",
    "  // Gửi thông báo cho client\n",
    "  ws.send(`Xin chào! IP của bạn là: ${ip}`);\n",
    "\n",
    "  // Xử lý tin nhắn từ client\n",
    "  ws.on('message', (message) => {\n",
    "    console.log(`Nhận được tin nhắn từ ${ip}: ${message}`);\n",
    "  });\n",
    "\n",
    "  // Xử lý khi client ngắt kết nối\n",
    "  ws.on('close', () => {\n",
    "    console.log(`Client từ IP ${ip} đã ngắt kết nối`);\n",
    "  });\n",
    "});\n",
    "\n",
    "// Khởi động máy chủ\n",
    "const PORT = 8080;\n",
    "server.listen(PORT, () => {\n",
    "  console.log(`Server đang lắng nghe tại http://localhost:${PORT}`);\n",
    "});"
   ]
  }
 ],
 "metadata": {
  "language_info": {
   "name": "python"
  }
 },
 "nbformat": 4,
 "nbformat_minor": 2
}
