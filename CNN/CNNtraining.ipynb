{
 "cells": [
  {
   "cell_type": "code",
   "execution_count": 27,
   "metadata": {},
   "outputs": [],
   "source": [
    "import torch\n",
    "import torch.nn as nn\n",
    "from torchvision import datasets, transforms\n",
    "from torch.utils.data import DataLoader \n",
    "import torch.optim as optim \n",
    "from torchinfo import summary\n"
   ]
  },
  {
   "cell_type": "markdown",
   "metadata": {},
   "source": [
    "## How to increase training accuracy"
   ]
  },
  {
   "cell_type": "markdown",
   "metadata": {},
   "source": [
    "### 1. Network Architectues"
   ]
  },
  {
   "cell_type": "markdown",
   "metadata": {},
   "source": [
    "#### VGG16"
   ]
  },
  {
   "cell_type": "code",
   "execution_count": 8,
   "metadata": {},
   "outputs": [],
   "source": [
    "device = torch.device('cuda' if torch.cuda.is_available() else 'cpu')"
   ]
  },
  {
   "cell_type": "code",
   "execution_count": 9,
   "metadata": {},
   "outputs": [],
   "source": [
    "block1 = nn.Sequential(\n",
    "    nn.Conv2d(3,64, kernel_size=3, padding=1), nn.ReLU(inplace=True),\n",
    "    nn.Conv2d(64,64, kernel_size=3, padding=1), nn.ReLU(inplace=True),\n",
    "    nn.MaxPool2d(kernel_size=2, stride=2)\n",
    ")\n",
    "\n",
    "block2 = nn.Sequential(\n",
    "    nn.Conv2d(64,128, kernel_size=3, padding=1), nn.ReLU(inplace=True),\n",
    "    nn.Conv2d(128,128, kernel_size=3, padding=1), nn.ReLU(inplace=True),\n",
    "    nn.MaxPool2d(kernel_size=2, stride=2)\n",
    ")\n",
    "\n",
    "block3 = nn.Sequential(\n",
    "    nn.Conv2d(128,256, kernel_size=3, padding=1), nn.ReLU(inplace=True),\n",
    "    nn.Conv2d(256,256, kernel_size=3, padding=1), nn.ReLU(inplace=True),\n",
    "    nn.Conv2d(256,256, kernel_size=3, padding=1), nn.ReLU(inplace=True),\n",
    "    nn.MaxPool2d(kernel_size=2, stride=2)\n",
    ")\n",
    "\n",
    "block4 = nn.Sequential(\n",
    "    nn.Conv2d(256,512, kernel_size=3, padding=1), nn.ReLU(inplace=True),\n",
    "    nn.Conv2d(512,512, kernel_size=3, padding=1), nn.ReLU(inplace=True),\n",
    "    nn.Conv2d(512,512, kernel_size=3, padding=1), nn.ReLU(inplace=True),\n",
    "    nn.MaxPool2d(kernel_size=2, stride=2)\n",
    ")\n",
    "\n",
    "block5 = nn.Sequential(\n",
    "    nn.Conv2d(512,512, kernel_size=3, padding=1), nn.ReLU(inplace=True),\n",
    "    nn.Conv2d(512,512, kernel_size=3, padding=1), nn.ReLU(inplace=True),\n",
    "    nn.Conv2d(512,512, kernel_size=3, padding=1), nn.ReLU(inplace=True),\n",
    "    nn.MaxPool2d(kernel_size=2, stride=2)\n",
    ")"
   ]
  },
  {
   "cell_type": "code",
   "execution_count": 10,
   "metadata": {},
   "outputs": [],
   "source": [
    "classifier = nn.Sequential(\n",
    "    nn.Flatten(),\n",
    "    nn.Linear(512*7*7, 4096), nn.ReLU(inplace=True),\n",
    "    nn.Linear(4096, 4096), nn.ReLU(inplace=True),\n",
    "    nn.Linear(4096, 1000),\n",
    ")"
   ]
  },
  {
   "cell_type": "code",
   "execution_count": 11,
   "metadata": {},
   "outputs": [],
   "source": [
    "class VGG16(nn.Module):\n",
    "    def __init__(self):\n",
    "        super(VGG16, self).__init__()\n",
    "        self.block1 = block1\n",
    "        self.block2 = block2\n",
    "        self.block3 = block3\n",
    "        self.block4 = block4\n",
    "        self.block5 = block5\n",
    "        self.classifier = classifier\n",
    "        \n",
    "    def forward(self,x):\n",
    "        x = self.block1(x)\n",
    "        x = self.block2(x)\n",
    "        x = self.block3(x)\n",
    "        x = self.block4(x)\n",
    "        x = self.block5(x)\n",
    "        x = self.classifier(x)\n",
    "        return x\n",
    "        "
   ]
  },
  {
   "cell_type": "code",
   "execution_count": 14,
   "metadata": {},
   "outputs": [
    {
     "data": {
      "text/plain": [
       "VGG16(\n",
       "  (block1): Sequential(\n",
       "    (0): Conv2d(3, 64, kernel_size=(3, 3), stride=(1, 1), padding=(1, 1))\n",
       "    (1): ReLU(inplace=True)\n",
       "    (2): Conv2d(64, 64, kernel_size=(3, 3), stride=(1, 1), padding=(1, 1))\n",
       "    (3): ReLU(inplace=True)\n",
       "    (4): MaxPool2d(kernel_size=2, stride=2, padding=0, dilation=1, ceil_mode=False)\n",
       "  )\n",
       "  (block2): Sequential(\n",
       "    (0): Conv2d(64, 128, kernel_size=(3, 3), stride=(1, 1), padding=(1, 1))\n",
       "    (1): ReLU(inplace=True)\n",
       "    (2): Conv2d(128, 128, kernel_size=(3, 3), stride=(1, 1), padding=(1, 1))\n",
       "    (3): ReLU(inplace=True)\n",
       "    (4): MaxPool2d(kernel_size=2, stride=2, padding=0, dilation=1, ceil_mode=False)\n",
       "  )\n",
       "  (block3): Sequential(\n",
       "    (0): Conv2d(128, 256, kernel_size=(3, 3), stride=(1, 1), padding=(1, 1))\n",
       "    (1): ReLU(inplace=True)\n",
       "    (2): Conv2d(256, 256, kernel_size=(3, 3), stride=(1, 1), padding=(1, 1))\n",
       "    (3): ReLU(inplace=True)\n",
       "    (4): Conv2d(256, 256, kernel_size=(3, 3), stride=(1, 1), padding=(1, 1))\n",
       "    (5): ReLU(inplace=True)\n",
       "    (6): MaxPool2d(kernel_size=2, stride=2, padding=0, dilation=1, ceil_mode=False)\n",
       "  )\n",
       "  (block4): Sequential(\n",
       "    (0): Conv2d(256, 512, kernel_size=(3, 3), stride=(1, 1), padding=(1, 1))\n",
       "    (1): ReLU(inplace=True)\n",
       "    (2): Conv2d(512, 512, kernel_size=(3, 3), stride=(1, 1), padding=(1, 1))\n",
       "    (3): ReLU(inplace=True)\n",
       "    (4): Conv2d(512, 512, kernel_size=(3, 3), stride=(1, 1), padding=(1, 1))\n",
       "    (5): ReLU(inplace=True)\n",
       "    (6): MaxPool2d(kernel_size=2, stride=2, padding=0, dilation=1, ceil_mode=False)\n",
       "  )\n",
       "  (block5): Sequential(\n",
       "    (0): Conv2d(512, 512, kernel_size=(3, 3), stride=(1, 1), padding=(1, 1))\n",
       "    (1): ReLU(inplace=True)\n",
       "    (2): Conv2d(512, 512, kernel_size=(3, 3), stride=(1, 1), padding=(1, 1))\n",
       "    (3): ReLU(inplace=True)\n",
       "    (4): Conv2d(512, 512, kernel_size=(3, 3), stride=(1, 1), padding=(1, 1))\n",
       "    (5): ReLU(inplace=True)\n",
       "    (6): MaxPool2d(kernel_size=2, stride=2, padding=0, dilation=1, ceil_mode=False)\n",
       "  )\n",
       "  (classifier): Sequential(\n",
       "    (0): Flatten(start_dim=1, end_dim=-1)\n",
       "    (1): Linear(in_features=25088, out_features=4096, bias=True)\n",
       "    (2): ReLU(inplace=True)\n",
       "    (3): Linear(in_features=4096, out_features=4096, bias=True)\n",
       "    (4): ReLU(inplace=True)\n",
       "    (5): Linear(in_features=4096, out_features=1000, bias=True)\n",
       "  )\n",
       ")"
      ]
     },
     "execution_count": 14,
     "metadata": {},
     "output_type": "execute_result"
    }
   ],
   "source": [
    "model = VGG16()\n",
    "model.to(device)"
   ]
  },
  {
   "cell_type": "markdown",
   "metadata": {},
   "source": [
    "#### VGG with data"
   ]
  },
  {
   "cell_type": "code",
   "execution_count": 90,
   "metadata": {},
   "outputs": [],
   "source": [
    "class CNNModel(nn.Module):\n",
    "    def __init__(self):\n",
    "        super(CNNModel, self).__init__()\n",
    "        self.conv_layer1 = nn.Sequential(\n",
    "            nn.Conv2d(3,64,3, stride=1, padding = 'same')\n",
    "        )\n",
    "        self.conv_layer2 = nn.Sequential(\n",
    "            nn.Conv2d(64,64,3, stride=1, padding='same'),\n",
    "            nn.ReLU(),\n",
    "            nn.MaxPool2d(2,2)\n",
    "        )\n",
    "        self.conv_layer3 = nn.Sequential(\n",
    "            nn.Conv2d(64,128,3, stride=1, padding='same'),\n",
    "            nn.ReLU()\n",
    "        )\n",
    "        \n",
    "        self.conv_layer4 = nn.Sequential(\n",
    "            nn.Conv2d(128,128, 3, stride=1, padding='same'),\n",
    "            nn.ReLU(),\n",
    "            nn.MaxPool2d(2,2)\n",
    "        )   \n",
    "        \n",
    "        self.conv_layer5 = nn.Sequential(\n",
    "            nn.Conv2d(128,256, 3, stride=1, padding='same'),\n",
    "            nn.ReLU(),\n",
    "        ) \n",
    "\n",
    "        self.conv_layer6 = nn.Sequential(\n",
    "            nn.Conv2d(256,256, 3, stride=1, padding='same'),\n",
    "            nn.ReLU(),\n",
    "        )   \n",
    "        \n",
    "        self.conv_layer7 = nn.Sequential(\n",
    "            nn.Conv2d(256,256, 3, stride=1, padding='same'),\n",
    "            nn.ReLU(),\n",
    "            nn.MaxPool2d(2,2)\n",
    "        )   \n",
    "        \n",
    "        self.conv_layer8 = nn.Sequential(\n",
    "            nn.Conv2d(256,512, 3, stride=1, padding='same'),\n",
    "            nn.ReLU(),\n",
    "        ) \n",
    "\n",
    "        self.conv_layer9 = nn.Sequential(\n",
    "            nn.Conv2d(512,512, 3, stride=1, padding='same'),\n",
    "            nn.ReLU(),\n",
    "        )   \n",
    "        \n",
    "        self.conv_layer10 = nn.Sequential(\n",
    "            nn.Conv2d(512,512, 3, stride=1, padding='same'),\n",
    "            nn.ReLU(),\n",
    "            nn.MaxPool2d(2,2)\n",
    "        )   \n",
    "        \n",
    "        self.conv_layer11 = nn.Sequential(\n",
    "            nn.Conv2d(512,512, 3, stride=1, padding='same'),\n",
    "            nn.ReLU(),\n",
    "        ) \n",
    "\n",
    "        self.conv_layer12 = nn.Sequential(\n",
    "            nn.Conv2d(512,512, 3, stride=1, padding='same'),\n",
    "            nn.ReLU(),\n",
    "        )   \n",
    "        \n",
    "        self.conv_layer13 = nn.Sequential(\n",
    "            nn.Conv2d(512,512, 3, stride=1, padding='same'),\n",
    "            nn.ReLU(),\n",
    "            nn.MaxPool2d(2,2)\n",
    "        )   \n",
    "                 \n",
    "    def forward(self, x):\n",
    "        x = self.conv_layer1(x)\n",
    "        x = self.conv_layer2(x)\n",
    "        \n",
    "        x = self.conv_layer3(x)\n",
    "        x = self.conv_layer4(x)\n",
    "        \n",
    "        x = self.conv_layer5(x)\n",
    "        x = self.conv_layer6(x)\n",
    "        x = self.conv_layer7(x)\n",
    "        \n",
    "        x = self.conv_layer8(x)\n",
    "        x = self.conv_layer9(x)\n",
    "        x = self.conv_layer10(x)\n",
    "        \n",
    "        x = self.conv_layer11(x)\n",
    "        x = self.conv_layer12(x)\n",
    "        x = self.conv_layer13(x)\n",
    "        return x\n"
   ]
  },
  {
   "cell_type": "code",
   "execution_count": 91,
   "metadata": {},
   "outputs": [],
   "source": [
    "from torchinfo import summary"
   ]
  },
  {
   "cell_type": "code",
   "execution_count": 98,
   "metadata": {},
   "outputs": [
    {
     "data": {
      "text/plain": [
       "==========================================================================================\n",
       "Layer (type:depth-idx)                   Output Shape              Param #\n",
       "==========================================================================================\n",
       "CNNModel                                 [512, 1, 1]               --\n",
       "├─Sequential: 1-1                        [64, 32, 32]              --\n",
       "│    └─Conv2d: 2-1                       [64, 32, 32]              1,792\n",
       "├─Sequential: 1-2                        [64, 16, 16]              --\n",
       "│    └─Conv2d: 2-2                       [64, 32, 32]              36,928\n",
       "│    └─ReLU: 2-3                         [64, 32, 32]              --\n",
       "│    └─MaxPool2d: 2-4                    [64, 16, 16]              --\n",
       "├─Sequential: 1-3                        [128, 16, 16]             --\n",
       "│    └─Conv2d: 2-5                       [128, 16, 16]             73,856\n",
       "│    └─ReLU: 2-6                         [128, 16, 16]             --\n",
       "├─Sequential: 1-4                        [128, 8, 8]               --\n",
       "│    └─Conv2d: 2-7                       [128, 16, 16]             147,584\n",
       "│    └─ReLU: 2-8                         [128, 16, 16]             --\n",
       "│    └─MaxPool2d: 2-9                    [128, 8, 8]               --\n",
       "├─Sequential: 1-5                        [256, 8, 8]               --\n",
       "│    └─Conv2d: 2-10                      [256, 8, 8]               295,168\n",
       "│    └─ReLU: 2-11                        [256, 8, 8]               --\n",
       "├─Sequential: 1-6                        [256, 8, 8]               --\n",
       "│    └─Conv2d: 2-12                      [256, 8, 8]               590,080\n",
       "│    └─ReLU: 2-13                        [256, 8, 8]               --\n",
       "├─Sequential: 1-7                        [256, 4, 4]               --\n",
       "│    └─Conv2d: 2-14                      [256, 8, 8]               590,080\n",
       "│    └─ReLU: 2-15                        [256, 8, 8]               --\n",
       "│    └─MaxPool2d: 2-16                   [256, 4, 4]               --\n",
       "├─Sequential: 1-8                        [512, 4, 4]               --\n",
       "│    └─Conv2d: 2-17                      [512, 4, 4]               1,180,160\n",
       "│    └─ReLU: 2-18                        [512, 4, 4]               --\n",
       "├─Sequential: 1-9                        [512, 4, 4]               --\n",
       "│    └─Conv2d: 2-19                      [512, 4, 4]               2,359,808\n",
       "│    └─ReLU: 2-20                        [512, 4, 4]               --\n",
       "├─Sequential: 1-10                       [512, 2, 2]               --\n",
       "│    └─Conv2d: 2-21                      [512, 4, 4]               2,359,808\n",
       "│    └─ReLU: 2-22                        [512, 4, 4]               --\n",
       "│    └─MaxPool2d: 2-23                   [512, 2, 2]               --\n",
       "├─Sequential: 1-11                       [512, 2, 2]               --\n",
       "│    └─Conv2d: 2-24                      [512, 2, 2]               2,359,808\n",
       "│    └─ReLU: 2-25                        [512, 2, 2]               --\n",
       "├─Sequential: 1-12                       [512, 2, 2]               --\n",
       "│    └─Conv2d: 2-26                      [512, 2, 2]               2,359,808\n",
       "│    └─ReLU: 2-27                        [512, 2, 2]               --\n",
       "├─Sequential: 1-13                       [512, 1, 1]               --\n",
       "│    └─Conv2d: 2-28                      [512, 2, 2]               2,359,808\n",
       "│    └─ReLU: 2-29                        [512, 2, 2]               --\n",
       "│    └─MaxPool2d: 2-30                   [512, 1, 1]               --\n",
       "==========================================================================================\n",
       "Total params: 14,714,688\n",
       "Trainable params: 14,714,688\n",
       "Non-trainable params: 0\n",
       "Total mult-adds (G): 22.89\n",
       "==========================================================================================\n",
       "Input size (MB): 0.01\n",
       "Forward/backward pass size (MB): 2.21\n",
       "Params size (MB): 58.86\n",
       "Estimated Total Size (MB): 61.08\n",
       "=========================================================================================="
      ]
     },
     "execution_count": 98,
     "metadata": {},
     "output_type": "execute_result"
    }
   ],
   "source": [
    "model = CNNModel()\n",
    "model = model.to(device)\n",
    "summary(model, (3, 32,32))"
   ]
  },
  {
   "cell_type": "markdown",
   "metadata": {},
   "source": [
    "#### Implement VGG16 with Fashion-MNIST dataset"
   ]
  },
  {
   "cell_type": "code",
   "execution_count": 93,
   "metadata": {},
   "outputs": [],
   "source": [
    "class FashionModel(nn.Module):\n",
    "    def __init__(self):\n",
    "        super(FashionModel, self).__init__()\n",
    "        self.conv_layer1 = nn.Sequential(\n",
    "            nn.Conv2d(1,64,3, stride=1, padding='same'), \n",
    "            nn.Sigmoid(),\n",
    "            nn.MaxPool2d(2,2)\n",
    "        )\n",
    "        self.conv_layer2 = nn.Sequential(\n",
    "            nn.Conv2d(64,128,3, stride=1, padding='same'), \n",
    "            nn.Sigmoid(),\n",
    "            nn.MaxPool2d(2,2)\n",
    "        )\n",
    "        self.conv_layer3 = nn.Sequential(\n",
    "            nn.Flatten(),\n",
    "            nn.Linear(128*7*7, 512),\n",
    "            nn.Sigmoid(),\n",
    "            nn.Linear(512,10)\n",
    "        )\n",
    "    def forward(self, x):\n",
    "        x = self.conv_layer1(x)\n",
    "        x = self.conv_layer2(x)\n",
    "        x = self.conv_layer3(x)\n",
    "        return x \n",
    "    "
   ]
  },
  {
   "cell_type": "code",
   "execution_count": 85,
   "metadata": {},
   "outputs": [],
   "source": [
    "from torchsummary import summary"
   ]
  },
  {
   "cell_type": "code",
   "execution_count": 86,
   "metadata": {},
   "outputs": [
    {
     "name": "stdout",
     "output_type": "stream",
     "text": [
      "----------------------------------------------------------------\n",
      "        Layer (type)               Output Shape         Param #\n",
      "================================================================\n",
      "            Conv2d-1           [-1, 64, 28, 28]             640\n",
      "           Sigmoid-2           [-1, 64, 28, 28]               0\n",
      "         MaxPool2d-3           [-1, 64, 14, 14]               0\n",
      "            Conv2d-4          [-1, 128, 14, 14]          73,856\n",
      "           Sigmoid-5          [-1, 128, 14, 14]               0\n",
      "         MaxPool2d-6            [-1, 128, 7, 7]               0\n",
      "           Flatten-7                 [-1, 6272]               0\n",
      "            Linear-8                  [-1, 512]       3,211,776\n",
      "           Sigmoid-9                  [-1, 512]               0\n",
      "           Linear-10                   [-1, 10]           5,130\n",
      "================================================================\n",
      "Total params: 3,291,402\n",
      "Trainable params: 3,291,402\n",
      "Non-trainable params: 0\n",
      "----------------------------------------------------------------\n",
      "Input size (MB): 0.00\n",
      "Forward/backward pass size (MB): 1.35\n",
      "Params size (MB): 12.56\n",
      "Estimated Total Size (MB): 13.91\n",
      "----------------------------------------------------------------\n"
     ]
    }
   ],
   "source": [
    "model = FashionModel()\n",
    "model = model.to(device)\n",
    "summary(model, (1,28,28))"
   ]
  },
  {
   "cell_type": "code",
   "execution_count": 97,
   "metadata": {},
   "outputs": [
    {
     "data": {
      "text/plain": [
       "==========================================================================================\n",
       "Layer (type:depth-idx)                   Output Shape              Param #\n",
       "==========================================================================================\n",
       "FashionModel                             [1, 10]                   --\n",
       "├─Sequential: 1-1                        [1, 64, 14, 14]           --\n",
       "│    └─Conv2d: 2-1                       [1, 64, 28, 28]           640\n",
       "│    └─Sigmoid: 2-2                      [1, 64, 28, 28]           --\n",
       "│    └─MaxPool2d: 2-3                    [1, 64, 14, 14]           --\n",
       "├─Sequential: 1-2                        [1, 128, 7, 7]            --\n",
       "│    └─Conv2d: 2-4                       [1, 128, 14, 14]          73,856\n",
       "│    └─Sigmoid: 2-5                      [1, 128, 14, 14]          --\n",
       "│    └─MaxPool2d: 2-6                    [1, 128, 7, 7]            --\n",
       "├─Sequential: 1-3                        [1, 10]                   --\n",
       "│    └─Flatten: 2-7                      [1, 6272]                 --\n",
       "│    └─Linear: 2-8                       [1, 512]                  3,211,776\n",
       "│    └─Sigmoid: 2-9                      [1, 512]                  --\n",
       "│    └─Linear: 2-10                      [1, 10]                   5,130\n",
       "==========================================================================================\n",
       "Total params: 3,291,402\n",
       "Trainable params: 3,291,402\n",
       "Non-trainable params: 0\n",
       "Total mult-adds (M): 18.19\n",
       "==========================================================================================\n",
       "Input size (MB): 0.00\n",
       "Forward/backward pass size (MB): 0.61\n",
       "Params size (MB): 13.17\n",
       "Estimated Total Size (MB): 13.78\n",
       "=========================================================================================="
      ]
     },
     "execution_count": 97,
     "metadata": {},
     "output_type": "execute_result"
    }
   ],
   "source": [
    "from torchinfo import summary\n",
    "model = FashionModel()\n",
    "model = model.to(device)\n",
    "summary(model, input_size=(1, 1, 28, 28))\n"
   ]
  },
  {
   "cell_type": "markdown",
   "metadata": {},
   "source": [
    "### 2. Network Training"
   ]
  },
  {
   "cell_type": "markdown",
   "metadata": {},
   "source": [
    "### 3. Case Study"
   ]
  },
  {
   "cell_type": "markdown",
   "metadata": {},
   "source": [
    "### 4. Problem-Solving Approach"
   ]
  }
 ],
 "metadata": {
  "kernelspec": {
   "display_name": "env_vqa",
   "language": "python",
   "name": "python3"
  },
  "language_info": {
   "codemirror_mode": {
    "name": "ipython",
    "version": 3
   },
   "file_extension": ".py",
   "mimetype": "text/x-python",
   "name": "python",
   "nbconvert_exporter": "python",
   "pygments_lexer": "ipython3",
   "version": "3.10.15"
  }
 },
 "nbformat": 4,
 "nbformat_minor": 2
}
